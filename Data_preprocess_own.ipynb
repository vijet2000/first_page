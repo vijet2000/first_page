{
  "nbformat": 4,
  "nbformat_minor": 0,
  "metadata": {
    "colab": {
      "name": "Copy of Data_preprocess_own.ipynb",
      "provenance": [],
      "collapsed_sections": [],
      "authorship_tag": "ABX9TyOs6dNVXaBO7IQ5MR6zy13D",
      "include_colab_link": true
    },
    "kernelspec": {
      "name": "python3",
      "display_name": "Python 3"
    }
  },
  "cells": [
    {
      "cell_type": "markdown",
      "metadata": {
        "id": "view-in-github",
        "colab_type": "text"
      },
      "source": [
        "<a href=\"https://colab.research.google.com/github/vijet2000/first_page/blob/main/Data_preprocess_own.ipynb\" target=\"_parent\"><img src=\"https://colab.research.google.com/assets/colab-badge.svg\" alt=\"Open In Colab\"/></a>"
      ]
    },
    {
      "cell_type": "markdown",
      "metadata": {
        "id": "A_cbROnnY9JK"
      },
      "source": [
        "**IMPORTING THE LIBRARYES**"
      ]
    },
    {
      "cell_type": "code",
      "metadata": {
        "id": "bKgQDKn4Nwvc"
      },
      "source": [
        "import numpy as np\r\n",
        "import matplotlib.pyplot as plt\r\n",
        "import pandas as pd"
      ],
      "execution_count": 6,
      "outputs": []
    },
    {
      "cell_type": "code",
      "metadata": {
        "id": "7VMT1LtLQamT"
      },
      "source": [
        "dataset = pd.read_csv('Data.csv')\r\n",
        "x = dataset.iloc[:, :-1].values\r\n",
        "y = dataset.iloc[:, -1].values"
      ],
      "execution_count": 7,
      "outputs": []
    },
    {
      "cell_type": "code",
      "metadata": {
        "colab": {
          "base_uri": "https://localhost:8080/"
        },
        "id": "pED749UgYx9h",
        "outputId": "9ed7d1cf-5cf1-4862-a36e-69044b0e3a81"
      },
      "source": [
        "print(x)"
      ],
      "execution_count": 8,
      "outputs": [
        {
          "output_type": "stream",
          "text": [
            "[['France' 44.0 72000.0]\n",
            " ['Spain' 27.0 48000.0]\n",
            " ['Germany' 30.0 54000.0]\n",
            " ['Spain' 38.0 61000.0]\n",
            " ['Germany' 40.0 nan]\n",
            " ['France' 35.0 58000.0]\n",
            " ['Spain' nan 52000.0]\n",
            " ['France' 48.0 79000.0]\n",
            " ['Germany' 50.0 83000.0]\n",
            " ['France' 37.0 67000.0]]\n"
          ],
          "name": "stdout"
        }
      ]
    },
    {
      "cell_type": "code",
      "metadata": {
        "colab": {
          "base_uri": "https://localhost:8080/"
        },
        "id": "LRjmXda7Yz3q",
        "outputId": "ff0d8ab4-2754-429e-81eb-a629913ca5c6"
      },
      "source": [
        "print(y)"
      ],
      "execution_count": 9,
      "outputs": [
        {
          "output_type": "stream",
          "text": [
            "['No' 'Yes' 'No' 'No' 'Yes' 'Yes' 'No' 'Yes' 'No' 'Yes']\n"
          ],
          "name": "stdout"
        }
      ]
    },
    {
      "cell_type": "markdown",
      "metadata": {
        "id": "uur02T0W761f"
      },
      "source": [
        "**TAKING CARE OF MISSING VALUES**"
      ]
    },
    {
      "cell_type": "code",
      "metadata": {
        "id": "WnT3iBxd8BZp"
      },
      "source": [
        "from sklearn.impute import SimpleImputer\r\n",
        "imputer = SimpleImputer(missing_values = np.nan, strategy = 'mean')\r\n",
        "imputer.fit(x[:, 1:3])\r\n",
        "x[:, 1:3] = imputer.transform(x[:, 1:3])"
      ],
      "execution_count": 10,
      "outputs": []
    },
    {
      "cell_type": "code",
      "metadata": {
        "colab": {
          "base_uri": "https://localhost:8080/"
        },
        "id": "wQxFsJl99YsK",
        "outputId": "eca5d50e-9589-4055-e2e5-1b1d24cb0e72"
      },
      "source": [
        "print(x)"
      ],
      "execution_count": 11,
      "outputs": [
        {
          "output_type": "stream",
          "text": [
            "[['France' 44.0 72000.0]\n",
            " ['Spain' 27.0 48000.0]\n",
            " ['Germany' 30.0 54000.0]\n",
            " ['Spain' 38.0 61000.0]\n",
            " ['Germany' 40.0 63777.77777777778]\n",
            " ['France' 35.0 58000.0]\n",
            " ['Spain' 38.77777777777778 52000.0]\n",
            " ['France' 48.0 79000.0]\n",
            " ['Germany' 50.0 83000.0]\n",
            " ['France' 37.0 67000.0]]\n"
          ],
          "name": "stdout"
        }
      ]
    },
    {
      "cell_type": "markdown",
      "metadata": {
        "id": "-49_CMQMKwRX"
      },
      "source": [
        "ENCODING CATEGORICAL DATA "
      ]
    },
    {
      "cell_type": "markdown",
      "metadata": {
        "id": "joxHo6Z0K_Rh"
      },
      "source": [
        "ENCODING THE INDEPENDENT VARIABLE"
      ]
    },
    {
      "cell_type": "code",
      "metadata": {
        "id": "PFmdVq1RLNIH"
      },
      "source": [
        "from sklearn.compose import ColumnTransformer\r\n",
        "from sklearn.preprocessing import OneHotEncoder\r\n",
        "ct = ColumnTransformer(transformers = [('encoder', OneHotEncoder(), [0])], remainder = 'passthrough')\r\n",
        "x = np.array(ct.fit_transform(x))"
      ],
      "execution_count": 15,
      "outputs": []
    },
    {
      "cell_type": "code",
      "metadata": {
        "colab": {
          "base_uri": "https://localhost:8080/"
        },
        "id": "IRE9phbkPP38",
        "outputId": "1d2b481e-c850-458c-fed3-b0a04e8e1214"
      },
      "source": [
        "print(x)"
      ],
      "execution_count": 16,
      "outputs": [
        {
          "output_type": "stream",
          "text": [
            "[[0.0 1.0 0.0 0.0 44.0 72000.0]\n",
            " [1.0 0.0 0.0 1.0 27.0 48000.0]\n",
            " [1.0 0.0 1.0 0.0 30.0 54000.0]\n",
            " [1.0 0.0 0.0 1.0 38.0 61000.0]\n",
            " [1.0 0.0 1.0 0.0 40.0 63777.77777777778]\n",
            " [0.0 1.0 0.0 0.0 35.0 58000.0]\n",
            " [1.0 0.0 0.0 1.0 38.77777777777778 52000.0]\n",
            " [0.0 1.0 0.0 0.0 48.0 79000.0]\n",
            " [1.0 0.0 1.0 0.0 50.0 83000.0]\n",
            " [0.0 1.0 0.0 0.0 37.0 67000.0]]\n"
          ],
          "name": "stdout"
        }
      ]
    },
    {
      "cell_type": "markdown",
      "metadata": {
        "id": "prB_HmQfLFrl"
      },
      "source": [
        "ENCODING THE DEPENDENT VARIABLE"
      ]
    },
    {
      "cell_type": "code",
      "metadata": {
        "id": "XaBdpeOVPWYt"
      },
      "source": [
        "from sklearn.preprocessing import LabelEncoder\r\n",
        "le = LabelEncoder()\r\n",
        "y = le.fit_transform(y)"
      ],
      "execution_count": 17,
      "outputs": []
    },
    {
      "cell_type": "code",
      "metadata": {
        "colab": {
          "base_uri": "https://localhost:8080/"
        },
        "id": "EgZuefzWP0dN",
        "outputId": "a920cb2c-d0a5-4564-c384-c97f49afef72"
      },
      "source": [
        "print(y)"
      ],
      "execution_count": 18,
      "outputs": [
        {
          "output_type": "stream",
          "text": [
            "[0 1 0 0 1 1 0 1 0 1]\n"
          ],
          "name": "stdout"
        }
      ]
    },
    {
      "cell_type": "markdown",
      "metadata": {
        "id": "9Zd8cgF_Rtx8"
      },
      "source": [
        "SPLITTING THE DATASETS INTO TRAINING AND TESTING"
      ]
    },
    {
      "cell_type": "code",
      "metadata": {
        "id": "3xqmwqeMR1h6"
      },
      "source": [
        "from sklearn.model_selection import train_test_split\r\n",
        "x_train, x_test, y_train, y_test = train_test_split(x, y, test_size = 0.2, random_state = 1)"
      ],
      "execution_count": 19,
      "outputs": []
    },
    {
      "cell_type": "code",
      "metadata": {
        "colab": {
          "base_uri": "https://localhost:8080/"
        },
        "id": "sqGblJrXUydh",
        "outputId": "b4e51bcf-8f16-468b-ba79-1dc731fd7aaf"
      },
      "source": [
        "print(x_train)"
      ],
      "execution_count": 20,
      "outputs": [
        {
          "output_type": "stream",
          "text": [
            "[[1.0 0.0 0.0 1.0 38.77777777777778 52000.0]\n",
            " [1.0 0.0 1.0 0.0 40.0 63777.77777777778]\n",
            " [0.0 1.0 0.0 0.0 44.0 72000.0]\n",
            " [1.0 0.0 0.0 1.0 38.0 61000.0]\n",
            " [1.0 0.0 0.0 1.0 27.0 48000.0]\n",
            " [0.0 1.0 0.0 0.0 48.0 79000.0]\n",
            " [1.0 0.0 1.0 0.0 50.0 83000.0]\n",
            " [0.0 1.0 0.0 0.0 35.0 58000.0]]\n"
          ],
          "name": "stdout"
        }
      ]
    },
    {
      "cell_type": "code",
      "metadata": {
        "colab": {
          "base_uri": "https://localhost:8080/"
        },
        "id": "mPAoYMoQU5lm",
        "outputId": "59ed5ecf-172e-4383-b7f7-c63b1089483f"
      },
      "source": [
        "print(x_test)"
      ],
      "execution_count": 21,
      "outputs": [
        {
          "output_type": "stream",
          "text": [
            "[[1.0 0.0 1.0 0.0 30.0 54000.0]\n",
            " [0.0 1.0 0.0 0.0 37.0 67000.0]]\n"
          ],
          "name": "stdout"
        }
      ]
    },
    {
      "cell_type": "code",
      "metadata": {
        "colab": {
          "base_uri": "https://localhost:8080/"
        },
        "id": "B-UJSXgpU8pv",
        "outputId": "aede2225-d37e-4ad0-ccf7-8213c38afd78"
      },
      "source": [
        "print(y_train)"
      ],
      "execution_count": 22,
      "outputs": [
        {
          "output_type": "stream",
          "text": [
            "[0 1 0 0 1 1 0 1]\n"
          ],
          "name": "stdout"
        }
      ]
    },
    {
      "cell_type": "code",
      "metadata": {
        "colab": {
          "base_uri": "https://localhost:8080/"
        },
        "id": "lHeBSmTaU_qK",
        "outputId": "ad89b312-c07f-4edd-9be1-f90bc00b26ae"
      },
      "source": [
        "print(y_test)"
      ],
      "execution_count": 23,
      "outputs": [
        {
          "output_type": "stream",
          "text": [
            "[0 1]\n"
          ],
          "name": "stdout"
        }
      ]
    },
    {
      "cell_type": "markdown",
      "metadata": {
        "id": "YEOM2fN3VC9R"
      },
      "source": [
        "**FEATURE SCALING**"
      ]
    },
    {
      "cell_type": "code",
      "metadata": {
        "id": "5tDzoichVIv7"
      },
      "source": [
        "from sklearn.preprocessing import StandardScaler\r\n",
        "sc = StandardScaler()\r\n",
        "x_train[:, 4:] = sc.fit_transform(x_train[:, 4:])\r\n",
        "x_test[:, 4:] = sc.transform(x_test[:, 4:])"
      ],
      "execution_count": 24,
      "outputs": []
    },
    {
      "cell_type": "code",
      "metadata": {
        "colab": {
          "base_uri": "https://localhost:8080/"
        },
        "id": "4iSDVyINcmSh",
        "outputId": "61f55968-e6fb-4f01-e7a4-aff77c0357d8"
      },
      "source": [
        "print(x_train)"
      ],
      "execution_count": 25,
      "outputs": [
        {
          "output_type": "stream",
          "text": [
            "[[1.0 0.0 0.0 1.0 -0.19159184384578545 -1.0781259408412425]\n",
            " [1.0 0.0 1.0 0.0 -0.014117293757057777 -0.07013167641635372]\n",
            " [0.0 1.0 0.0 0.0 0.566708506533324 0.633562432710455]\n",
            " [1.0 0.0 0.0 1.0 -0.30453019390224867 -0.30786617274297867]\n",
            " [1.0 0.0 0.0 1.0 -1.9018011447007988 -1.420463615551582]\n",
            " [0.0 1.0 0.0 0.0 1.1475343068237058 1.232653363453549]\n",
            " [1.0 0.0 1.0 0.0 1.4379472069688968 1.5749910381638885]\n",
            " [0.0 1.0 0.0 0.0 -0.7401495441200351 -0.5646194287757332]]\n"
          ],
          "name": "stdout"
        }
      ]
    },
    {
      "cell_type": "code",
      "metadata": {
        "colab": {
          "base_uri": "https://localhost:8080/"
        },
        "id": "0ZRZ7Zh5cq0J",
        "outputId": "2fdd5a04-d563-497d-db86-88d207f73c6e"
      },
      "source": [
        "print(x_test)"
      ],
      "execution_count": 26,
      "outputs": [
        {
          "output_type": "stream",
          "text": [
            "[[1.0 0.0 1.0 0.0 -1.4661817944830124 -0.9069571034860727]\n",
            " [0.0 1.0 0.0 0.0 -0.44973664397484414 0.2056403393225306]]\n"
          ],
          "name": "stdout"
        }
      ]
    }
  ]
}